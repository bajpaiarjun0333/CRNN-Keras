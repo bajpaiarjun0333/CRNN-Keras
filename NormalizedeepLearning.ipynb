{
  "nbformat": 4,
  "nbformat_minor": 0,
  "metadata": {
    "colab": {
      "provenance": [],
      "authorship_tag": "ABX9TyPm3uP9YIDye8pUtRSDtguN",
      "include_colab_link": true
    },
    "kernelspec": {
      "name": "python3",
      "display_name": "Python 3"
    },
    "language_info": {
      "name": "python"
    }
  },
  "cells": [
    {
      "cell_type": "markdown",
      "metadata": {
        "id": "view-in-github",
        "colab_type": "text"
      },
      "source": [
        "<a href=\"https://colab.research.google.com/github/bajpaiarjun0333/CRNN-Keras/blob/master/NormalizedeepLearning.ipynb\" target=\"_parent\"><img src=\"https://colab.research.google.com/assets/colab-badge.svg\" alt=\"Open In Colab\"/></a>"
      ]
    },
    {
      "cell_type": "code",
      "execution_count": 78,
      "metadata": {
        "id": "aQBMYJz3azNs"
      },
      "outputs": [],
      "source": [
        "import numpy as np \n",
        "import pandas as pd"
      ]
    },
    {
      "cell_type": "code",
      "source": [
        "#dataset loading \n",
        "from keras.datasets import fashion_mnist\n",
        "(x_train, y_train), (x_test, y_test) = fashion_mnist.load_data()\n",
        "x_train=x_train.reshape(x_train.shape[0],(x_train.shape[1]*x_train.shape[2]))\n",
        "x_test=x_test.reshape(x_test.shape[0],(x_test.shape[1]*x_test.shape[2]))\n",
        "x_train=x_train/255\n",
        "x_test=x_test/255\n"
      ],
      "metadata": {
        "id": "MkUeLRnIbPay"
      },
      "execution_count": 80,
      "outputs": []
    },
    {
      "cell_type": "code",
      "source": [
        "def sigmoid(z):\n",
        "  for i in range(z.shape[0]):\n",
        "    idx=np.argmax(z[i])\n",
        "  return 1/(1+np.exp(-z))"
      ],
      "metadata": {
        "id": "dEe8fp-dg_M7"
      },
      "execution_count": 81,
      "outputs": []
    },
    {
      "cell_type": "code",
      "source": [
        "def sigmoid_derivative(z):\n",
        "  return np.multiply((1/(1+np.exp(-z))),(1-(1/(1+np.exp(-z)))))"
      ],
      "metadata": {
        "id": "vOiJGgIoiQhX"
      },
      "execution_count": 82,
      "outputs": []
    },
    {
      "cell_type": "code",
      "source": [
        "def softmax(x):\n",
        "  for i in range(x.shape[0]):\n",
        "    sum=0\n",
        "    for j in range(x.shape[1]):\n",
        "      sum=sum+np.exp(x[i][j])\n",
        "    x[i]=np.exp(x[i])/sum\n",
        "  return x"
      ],
      "metadata": {
        "id": "SggmTt9P-Quj"
      },
      "execution_count": 83,
      "outputs": []
    },
    {
      "cell_type": "code",
      "source": [
        "def cross_entropy(yhat,y_train):\n",
        "  sum=0 \n",
        "  for i in range(y_train.shape[0]):\n",
        "    sum+=-((np.log2(yhat[i][y_train[i]])))\n",
        "  return sum"
      ],
      "metadata": {
        "id": "DI83p5NGBbmn"
      },
      "execution_count": 84,
      "outputs": []
    },
    {
      "cell_type": "code",
      "source": [
        "def make_layer(w,b,input,output):\n",
        "  weights=np.random.uniform(-1,1,(input,output))\n",
        "  bias=np.random.uniform(-1,1,(1,output))\n",
        "  w.append(weights)\n",
        "  b.append(bias)\n",
        "  return (w,b)"
      ],
      "metadata": {
        "id": "gYUxQUVmjOw7"
      },
      "execution_count": 85,
      "outputs": []
    },
    {
      "cell_type": "code",
      "source": [
        "def forward_pass(x,w,b):\n",
        "  a=[]\n",
        "  h=[]\n",
        "  l=len(w)\n",
        "  #use a for loop for the required functionality\n",
        "  for i in range (l-1):\n",
        "    a1=np.add(np.matmul(x,w[i]),b[i])\n",
        "    h1=sigmoid(a1)\n",
        "    a.append(a1)\n",
        "    h.append(h1)\n",
        "    x=h1\n",
        "  #this loop will complete the forward pass\n",
        "  #for the last layer\n",
        "  a1=np.add(np.matmul(x,w[l-1]),b[l-1])\n",
        "  h1=softmax(a1)\n",
        "  a.append(a1)\n",
        "  h.append(h1)\n",
        "  return (a,h)"
      ],
      "metadata": {
        "id": "vo2s3Q8xg7Er"
      },
      "execution_count": 86,
      "outputs": []
    },
    {
      "cell_type": "code",
      "source": [
        "def backward_pass(w,b,a,h,yhat,y_train,x_train,no_of_classes):\n",
        "  #yahan par derivative ulte calculate honge yeh yaad rakhna,to saare loop ulte chalane honge humko\n",
        "  #apne ko yl banana padega for all the n inputs\n",
        "  #last layer ke liye special treatment\n",
        "  wd=[]\n",
        "  bd=[]\n",
        "  ad=[]\n",
        "  hd=[]\n",
        "  el=np.zeros((y_train.shape[0],no_of_classes))\n",
        "  for i in range (y_train.shape[0]):\n",
        "      el[i][y_train[i]]=1\n",
        "\n",
        "  yhatl=np.zeros((yhat.shape[0],1))\n",
        "  for i in range (yhat.shape[0]):\n",
        "    yhatl[i]=yhat[i][y_train[i]]\n",
        "  #calculate for the last layer\n",
        "  hd1=-(el/yhatl)\n",
        "  ad1=-(el-yhat)\n",
        "  hd.append(hd1)\n",
        "  ad.append(ad1)\n",
        "  #ab loop me daal kar saare ke saare humesha last appended wala hi use hoga\n",
        "  l=len(w)\n",
        "  for i in range(l-1,-1,-1):\n",
        "    # print(\"i \"+str(i))\n",
        "    # print(h[i-1].shape)\n",
        "    #print(ad[len(ad)-1].shape)\n",
        "    q=h[i-1].T\n",
        "    if i==0:\n",
        "      q=x_train.T\n",
        "    wi=np.matmul(q,ad[len(ad)-1])/x_train.shape[0]\n",
        "    bi=np.sum(ad[len(ad)-1],axis=0)/x_train.shape[0]\n",
        "    if i!=0:\n",
        "      hd1=np.matmul(ad[len(ad)-1],w[i].T)\n",
        "      sig=sigmoid_derivative(a[i-1])\n",
        "      ad1=np.multiply(hd1,sig)\n",
        "      hd.append(hd1)\n",
        "      ad.append(ad1)\n",
        "    wd.append(wi)\n",
        "    bd.append(bi)\n",
        "  return (wd,bd)  "
      ],
      "metadata": {
        "id": "_fYP_p056tpO"
      },
      "execution_count": 87,
      "outputs": []
    },
    {
      "cell_type": "code",
      "source": [
        "def test(x_test,y_test,w,b):\n",
        "  a,h=forward_pass(x_test,w,b)\n",
        "  l=len(w)\n",
        "  ypred=np.argmax(h[l-1],axis=1)\n",
        "  count=0\n",
        "  for i in range(y_test.shape[0]):\n",
        "    if ypred[i]!=y_test[i]:\n",
        "      count=count+1\n",
        "  print((x_test.shape[0]-count)/y_test.shape[0])\n"
      ],
      "metadata": {
        "id": "C2iWR0G_dlEs"
      },
      "execution_count": 88,
      "outputs": []
    },
    {
      "cell_type": "code",
      "source": [
        "def gradientDescent(x_train,y_train,x_test,y_test,no_of_classes,w,b,l,iter,n):\n",
        "  for i in range (iter):\n",
        "    a=[]\n",
        "    h=[]\n",
        "    a,h=forward_pass(x_train,w,b,a,h)\n",
        "    #print(a[0][:])\n",
        "    #print(a[l-1][:])\n",
        "    loss=cross_entropy(h[l-1],y_train)\n",
        "    print(\"Iteration Number: \"+str(i)+\" loss: \"+str(loss/x_train.shape[0]))\n",
        "    wd,bd=backward_pass(w,b,a,h,h[l-1],y_train,x_train)\n",
        "    for j in range (l):\n",
        "      w[j]=w[j]-n*wd[l-1-j]\n",
        "      b[j]=b[j]-n*bd[l-1-j]\n",
        "  \n",
        "\n",
        "  print(\"Test Results: \")\n",
        "  test(x_test,y_test,w,b)\n",
        "\n",
        "\n"
      ],
      "metadata": {
        "id": "76yjTMwQssrn"
      },
      "execution_count": 89,
      "outputs": []
    },
    {
      "cell_type": "code",
      "source": [
        "def createBatches(x_train,y_train,batchSize):\n",
        "  data=[]\n",
        "  ans=[]\n",
        "  for i in range(int(x_train.shape[0]/batchSize)):\n",
        "    batch=[]\n",
        "    batch_ans=[]\n",
        "    for j in range(i*batchSize,min((i+1)*batchSize,x_train.shape[0]),1):\n",
        "      batch.append(x_train[j])\n",
        "      batch_ans.append(y_train[j])\n",
        "    batch=np.array(batch)\n",
        "    batch_ans=np.array(batch_ans)\n",
        "    data.append(batch)\n",
        "    ans.append(batch_ans)\n",
        "  return data,ans\n"
      ],
      "metadata": {
        "id": "u_Fvu1-qySOj"
      },
      "execution_count": 90,
      "outputs": []
    },
    {
      "cell_type": "code",
      "source": [
        "def MGradientDescent(x_train,y_train,no_of_classes,w,b,l,n):\n",
        "  a,h=forward_pass(x_train,w,b)\n",
        "  wd,bd=backward_pass(w,b,a,h,h[l-1],y_train,x_train,no_of_classes)\n",
        "  return (wd,bd)"
      ],
      "metadata": {
        "id": "NcFsmeAausaR"
      },
      "execution_count": 91,
      "outputs": []
    },
    {
      "cell_type": "code",
      "source": [
        "def momentumGradientDescent(x_train,y_train,x_test,y_test,no_of_classes,w,b,l,iter,n,batchSize,beta):\n",
        "  data,ans=createBatches(x_train,y_train,batchSize)\n",
        "  #batches have been made accordingly\n",
        "  moment=[]\n",
        "  momentB=[]\n",
        "  for i in range(l):\n",
        "    temp=np.zeros((w[i].shape))\n",
        "    temp2=np.zeros(b[i].shape)\n",
        "    moment.append(temp)\n",
        "    momentB.append(temp2)\n",
        "  print(len(data))\n",
        "  for i in range(iter):\n",
        "    print(\"Iteration No: \"+str(i))\n",
        "    for j in range(len(data)):\n",
        "\n",
        "      # if j%10==0:\n",
        "      #   print(\"Batch Number \"+str(j))\n",
        "      wd,bd=MGradientDescent(data[j],ans[j],no_of_classes,w,b,l,n)\n",
        "      for k in range (l):\n",
        "        moment[k]=(moment[k]*beta)+wd[l-1-k]\n",
        "        momentB[k]=(momentB[k]*beta)+bd[l-1-k]\n",
        "        w[k]=w[k]-n*moment[k]\n",
        "        b[k]=b[k]-n*momentB[k]\n",
        "  \n",
        "    a,h=forward_pass(x_train,w,b)\n",
        "    loss=cross_entropy(h[l-1],y_train)\n",
        "    print(\"Iteration Number: \"+str(i)+\" loss: \"+str(loss/x_train.shape[0]))\n",
        "    print(\"Test Results: \")\n",
        "    test(x_test,y_test,w,b) \n",
        "\n",
        "\n"
      ],
      "metadata": {
        "id": "w0Wz5zWOhmlF"
      },
      "execution_count": 92,
      "outputs": []
    },
    {
      "cell_type": "code",
      "source": [
        "def batchGrad(x_train,y_train,x_test,y_test,no_of_classes,w,b,l,iter,n,batchSize):\n",
        "  data,ans=createBatches(x_train,y_train,batchSize)\n",
        "  #start the batch gradient descent \n",
        "  for i in range(iter):\n",
        "    h=None\n",
        "    for j in range(len(data)):\n",
        "      wd,bd=MGradientDescent(data[j],ans[j],no_of_classes,w,b,l,n)\n",
        "    a=[]\n",
        "    h=[]\n",
        "    a,h=forward_pass(x_train,w,b)\n",
        "    loss=cross_entropy(h[l-1],y_train)\n",
        "    print(\"Iteration Number: \"+str(i)+\" loss: \"+str(loss/x_train.shape[0]))\n",
        "    print(\"Test Results: \")\n",
        "    test(x_test,y_test,w,b) \n",
        "\n"
      ],
      "metadata": {
        "id": "0-w5m1qOwVoz"
      },
      "execution_count": 93,
      "outputs": []
    },
    {
      "cell_type": "code",
      "source": [
        "def nsGradientDescent(x_train,y_train,x_test,y_test,no_of_classes,w,b,l,iter,n,batchSize,beta):\n",
        "  #batches have been made accordingly\n",
        "  data,ans=createBatches(x_train,y_train,batchSize)\n",
        "  moment=[]\n",
        "  momentB=[]\n",
        "  for i in range(l):\n",
        "    temp=np.zeros((w[i].shape))\n",
        "    temp2=np.zeros((b[i].shape))\n",
        "    moment.append(temp)\n",
        "    momentB.append(temp2)\n",
        "  for i in range(iter):\n",
        "    print(\"Iteration No: \"+str(i))\n",
        "    for j in range(len(data)):\n",
        "      for k in range(l):\n",
        "        w[k]=w[k]-beta*moment[k]\n",
        "        b[k]=b[k]-beta*momentB[k]\n",
        "      wd,bd=MGradientDescent(data[k],ans[k],no_of_classes,w,b,l,n)\n",
        "      for k in range (l):\n",
        "        moment[k]=beta*moment[k]+n*wd[l-1-k]\n",
        "        momentB[k]=beta*momentB[k]+n*bd[l-1-k]\n",
        "        w[k]=w[k]-moment[k]\n",
        "        b[k]=b[k]-momentB[k]\n",
        "      \n",
        "    a,h=forward_pass(x_train,w,b)\n",
        "    loss=cross_entropy(h[l-1],y_train)\n",
        "    print(\"Iteration Number: \"+str(i)+\" loss: \"+str(loss/x_train.shape[0]))\n",
        "    print(\"Test Results: Nestorov Gradient Descent :: \")\n",
        "    test(x_test,y_test,w,b) "
      ],
      "metadata": {
        "id": "HlguX4kstKPT"
      },
      "execution_count": 116,
      "outputs": []
    },
    {
      "cell_type": "code",
      "source": [
        "def architecture(x_train,y_train,x_test,y_test,no_of_classes):\n",
        "\n",
        "  w=[]\n",
        "  b=[]\n",
        "  w,b=make_layer(w,b,784,128)\n",
        "  w,b=make_layer(w,b,128,128)\n",
        "  w,b=make_layer(w,b,128,128)\n",
        "  w,b=make_layer(w,b,128,10)\n",
        "  l=len(w)\n",
        "  iter=5\n",
        "  n=0.1\n",
        "  #gradientDescent(x_train,y_train,x_test,y_test,no_of_classes,w,b,l,iter,n)\n",
        "  #print(\"Batch Gradient Descent: \")\n",
        "  #batchGrad(x_train,y_train,x_test,y_test,no_of_classes,w,b,l,iter,n,1024)\n",
        "  #print(\"Momentum Gradient Descent: \")\n",
        "  #momentumGradientDescent(x_train,y_train,x_test,y_test,no_of_classes,w,b,l,iter,n,1024,0.9)\n",
        "  #print(\"Starting of Nestrov Gradient Descent: \")\n",
        "  nsGradientDescent(x_train,y_train,x_test,y_test,no_of_classes,w,b,l,iter,n,4096,0.9)\n",
        "  "
      ],
      "metadata": {
        "id": "kLLtw7Us42D2"
      },
      "execution_count": 121,
      "outputs": []
    },
    {
      "cell_type": "code",
      "source": [
        "architecture(x_train,y_train,x_test,y_test,10)"
      ],
      "metadata": {
        "colab": {
          "base_uri": "https://localhost:8080/"
        },
        "id": "VPjTJaW1F20e",
        "outputId": "8fd9fa9e-df65-4407-d80f-94f348aa126e"
      },
      "execution_count": 122,
      "outputs": [
        {
          "output_type": "stream",
          "name": "stdout",
          "text": [
            "Iteration No: 0\n",
            "Iteration Number: 0 loss: 2.7452287105748177\n",
            "Test Results: Nestorov Gradient Descent :: \n",
            "0.5272\n",
            "Iteration No: 1\n",
            "Iteration Number: 1 loss: 1.3240190563172218\n",
            "Test Results: Nestorov Gradient Descent :: \n",
            "0.6512\n",
            "Iteration No: 2\n",
            "Iteration Number: 2 loss: 1.002290291262035\n",
            "Test Results: Nestorov Gradient Descent :: \n",
            "0.7316\n",
            "Iteration No: 3\n",
            "Iteration Number: 3 loss: 0.9079109453828428\n",
            "Test Results: Nestorov Gradient Descent :: \n",
            "0.7558\n",
            "Iteration No: 4\n",
            "Iteration Number: 4 loss: 0.8602221207162184\n",
            "Test Results: Nestorov Gradient Descent :: \n",
            "0.7686\n"
          ]
        }
      ]
    },
    {
      "cell_type": "code",
      "source": [],
      "metadata": {
        "id": "YU8mYwhGdbh9"
      },
      "execution_count": null,
      "outputs": []
    }
  ]
}